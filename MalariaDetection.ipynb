{
 "cells": [
  {
   "cell_type": "code",
   "execution_count": 1,
   "id": "83ac1b17",
   "metadata": {},
   "outputs": [],
   "source": [
    "import pandas as pd"
   ]
  },
  {
   "cell_type": "code",
   "execution_count": 2,
   "id": "c36102aa",
   "metadata": {},
   "outputs": [],
   "source": [
    "df=pd.read_csv(r\"C:\\Users\\Varma\\Downloads\\malaria_detection.csv\")"
   ]
  },
  {
   "cell_type": "code",
   "execution_count": 3,
   "id": "7aed6dc2",
   "metadata": {},
   "outputs": [
    {
     "data": {
      "text/html": [
       "<div>\n",
       "<style scoped>\n",
       "    .dataframe tbody tr th:only-of-type {\n",
       "        vertical-align: middle;\n",
       "    }\n",
       "\n",
       "    .dataframe tbody tr th {\n",
       "        vertical-align: top;\n",
       "    }\n",
       "\n",
       "    .dataframe thead th {\n",
       "        text-align: right;\n",
       "    }\n",
       "</style>\n",
       "<table border=\"1\" class=\"dataframe\">\n",
       "  <thead>\n",
       "    <tr style=\"text-align: right;\">\n",
       "      <th></th>\n",
       "      <th>filename</th>\n",
       "      <th>label</th>\n",
       "    </tr>\n",
       "  </thead>\n",
       "  <tbody>\n",
       "    <tr>\n",
       "      <th>0</th>\n",
       "      <td>C50P11thinF_IMG_20150724_114951_cell_148.png</td>\n",
       "      <td>malaria</td>\n",
       "    </tr>\n",
       "    <tr>\n",
       "      <th>1</th>\n",
       "      <td>C112P73ThinF_IMG_20150930_131659_cell_94.png</td>\n",
       "      <td>healthy</td>\n",
       "    </tr>\n",
       "    <tr>\n",
       "      <th>2</th>\n",
       "      <td>C59P20thinF_IMG_20150803_111333_cell_144.png</td>\n",
       "      <td>malaria</td>\n",
       "    </tr>\n",
       "    <tr>\n",
       "      <th>3</th>\n",
       "      <td>C158P119ThinF_IMG_20151115_181136_cell_202.png</td>\n",
       "      <td>malaria</td>\n",
       "    </tr>\n",
       "    <tr>\n",
       "      <th>4</th>\n",
       "      <td>C81P42ThinF_IMG_20150817_120524_cell_190.png</td>\n",
       "      <td>malaria</td>\n",
       "    </tr>\n",
       "    <tr>\n",
       "      <th>...</th>\n",
       "      <td>...</td>\n",
       "      <td>...</td>\n",
       "    </tr>\n",
       "    <tr>\n",
       "      <th>19285</th>\n",
       "      <td>C137P98ThinF_IMG_20151005_162348_cell_2.png</td>\n",
       "      <td>malaria</td>\n",
       "    </tr>\n",
       "    <tr>\n",
       "      <th>19286</th>\n",
       "      <td>C159P120ThinF_IMG_20151115_190421_cell_204.png</td>\n",
       "      <td>malaria</td>\n",
       "    </tr>\n",
       "    <tr>\n",
       "      <th>19287</th>\n",
       "      <td>C7NthinF_IMG_20150611_104609_cell_187.png</td>\n",
       "      <td>healthy</td>\n",
       "    </tr>\n",
       "    <tr>\n",
       "      <th>19288</th>\n",
       "      <td>C182P143NThinF_IMG_20151201_171950_cell_220.png</td>\n",
       "      <td>malaria</td>\n",
       "    </tr>\n",
       "    <tr>\n",
       "      <th>19289</th>\n",
       "      <td>C63P24N_ThinF_IMG_20150818_143544_cell_159.png</td>\n",
       "      <td>healthy</td>\n",
       "    </tr>\n",
       "  </tbody>\n",
       "</table>\n",
       "<p>19290 rows × 2 columns</p>\n",
       "</div>"
      ],
      "text/plain": [
       "                                              filename    label\n",
       "0         C50P11thinF_IMG_20150724_114951_cell_148.png  malaria\n",
       "1         C112P73ThinF_IMG_20150930_131659_cell_94.png  healthy\n",
       "2         C59P20thinF_IMG_20150803_111333_cell_144.png  malaria\n",
       "3       C158P119ThinF_IMG_20151115_181136_cell_202.png  malaria\n",
       "4         C81P42ThinF_IMG_20150817_120524_cell_190.png  malaria\n",
       "...                                                ...      ...\n",
       "19285      C137P98ThinF_IMG_20151005_162348_cell_2.png  malaria\n",
       "19286   C159P120ThinF_IMG_20151115_190421_cell_204.png  malaria\n",
       "19287        C7NthinF_IMG_20150611_104609_cell_187.png  healthy\n",
       "19288  C182P143NThinF_IMG_20151201_171950_cell_220.png  malaria\n",
       "19289   C63P24N_ThinF_IMG_20150818_143544_cell_159.png  healthy\n",
       "\n",
       "[19290 rows x 2 columns]"
      ]
     },
     "execution_count": 3,
     "metadata": {},
     "output_type": "execute_result"
    }
   ],
   "source": [
    "df"
   ]
  },
  {
   "cell_type": "code",
   "execution_count": 4,
   "id": "5a1f87f1",
   "metadata": {},
   "outputs": [],
   "source": [
    "from sklearn.preprocessing import LabelEncoder\n",
    "le=LabelEncoder() "
   ]
  },
  {
   "cell_type": "code",
   "execution_count": 5,
   "id": "30ad6241",
   "metadata": {},
   "outputs": [],
   "source": [
    "df['label']=le.fit_transform(df['label'])"
   ]
  },
  {
   "cell_type": "code",
   "execution_count": 6,
   "id": "8af014ae",
   "metadata": {},
   "outputs": [
    {
     "data": {
      "text/html": [
       "<div>\n",
       "<style scoped>\n",
       "    .dataframe tbody tr th:only-of-type {\n",
       "        vertical-align: middle;\n",
       "    }\n",
       "\n",
       "    .dataframe tbody tr th {\n",
       "        vertical-align: top;\n",
       "    }\n",
       "\n",
       "    .dataframe thead th {\n",
       "        text-align: right;\n",
       "    }\n",
       "</style>\n",
       "<table border=\"1\" class=\"dataframe\">\n",
       "  <thead>\n",
       "    <tr style=\"text-align: right;\">\n",
       "      <th></th>\n",
       "      <th>filename</th>\n",
       "      <th>label</th>\n",
       "    </tr>\n",
       "  </thead>\n",
       "  <tbody>\n",
       "    <tr>\n",
       "      <th>0</th>\n",
       "      <td>C50P11thinF_IMG_20150724_114951_cell_148.png</td>\n",
       "      <td>1</td>\n",
       "    </tr>\n",
       "    <tr>\n",
       "      <th>1</th>\n",
       "      <td>C112P73ThinF_IMG_20150930_131659_cell_94.png</td>\n",
       "      <td>0</td>\n",
       "    </tr>\n",
       "    <tr>\n",
       "      <th>2</th>\n",
       "      <td>C59P20thinF_IMG_20150803_111333_cell_144.png</td>\n",
       "      <td>1</td>\n",
       "    </tr>\n",
       "    <tr>\n",
       "      <th>3</th>\n",
       "      <td>C158P119ThinF_IMG_20151115_181136_cell_202.png</td>\n",
       "      <td>1</td>\n",
       "    </tr>\n",
       "    <tr>\n",
       "      <th>4</th>\n",
       "      <td>C81P42ThinF_IMG_20150817_120524_cell_190.png</td>\n",
       "      <td>1</td>\n",
       "    </tr>\n",
       "    <tr>\n",
       "      <th>...</th>\n",
       "      <td>...</td>\n",
       "      <td>...</td>\n",
       "    </tr>\n",
       "    <tr>\n",
       "      <th>19285</th>\n",
       "      <td>C137P98ThinF_IMG_20151005_162348_cell_2.png</td>\n",
       "      <td>1</td>\n",
       "    </tr>\n",
       "    <tr>\n",
       "      <th>19286</th>\n",
       "      <td>C159P120ThinF_IMG_20151115_190421_cell_204.png</td>\n",
       "      <td>1</td>\n",
       "    </tr>\n",
       "    <tr>\n",
       "      <th>19287</th>\n",
       "      <td>C7NthinF_IMG_20150611_104609_cell_187.png</td>\n",
       "      <td>0</td>\n",
       "    </tr>\n",
       "    <tr>\n",
       "      <th>19288</th>\n",
       "      <td>C182P143NThinF_IMG_20151201_171950_cell_220.png</td>\n",
       "      <td>1</td>\n",
       "    </tr>\n",
       "    <tr>\n",
       "      <th>19289</th>\n",
       "      <td>C63P24N_ThinF_IMG_20150818_143544_cell_159.png</td>\n",
       "      <td>0</td>\n",
       "    </tr>\n",
       "  </tbody>\n",
       "</table>\n",
       "<p>19290 rows × 2 columns</p>\n",
       "</div>"
      ],
      "text/plain": [
       "                                              filename  label\n",
       "0         C50P11thinF_IMG_20150724_114951_cell_148.png      1\n",
       "1         C112P73ThinF_IMG_20150930_131659_cell_94.png      0\n",
       "2         C59P20thinF_IMG_20150803_111333_cell_144.png      1\n",
       "3       C158P119ThinF_IMG_20151115_181136_cell_202.png      1\n",
       "4         C81P42ThinF_IMG_20150817_120524_cell_190.png      1\n",
       "...                                                ...    ...\n",
       "19285      C137P98ThinF_IMG_20151005_162348_cell_2.png      1\n",
       "19286   C159P120ThinF_IMG_20151115_190421_cell_204.png      1\n",
       "19287        C7NthinF_IMG_20150611_104609_cell_187.png      0\n",
       "19288  C182P143NThinF_IMG_20151201_171950_cell_220.png      1\n",
       "19289   C63P24N_ThinF_IMG_20150818_143544_cell_159.png      0\n",
       "\n",
       "[19290 rows x 2 columns]"
      ]
     },
     "execution_count": 6,
     "metadata": {},
     "output_type": "execute_result"
    }
   ],
   "source": [
    "df"
   ]
  },
  {
   "cell_type": "code",
   "execution_count": 7,
   "id": "ea6aa9ec",
   "metadata": {},
   "outputs": [],
   "source": [
    "from sklearn.model_selection import train_test_split as tts\n",
    "train_f,test_f,train_l,test_l=tts(df['filename'],df['label'],test_size=0.2,random_state=20)"
   ]
  },
  {
   "cell_type": "code",
   "execution_count": 8,
   "id": "e759ee69",
   "metadata": {},
   "outputs": [
    {
     "data": {
      "text/plain": [
       "(15432,)"
      ]
     },
     "execution_count": 8,
     "metadata": {},
     "output_type": "execute_result"
    }
   ],
   "source": [
    "train_f.shape"
   ]
  },
  {
   "cell_type": "code",
   "execution_count": 9,
   "id": "1f75c825",
   "metadata": {},
   "outputs": [
    {
     "data": {
      "text/plain": [
       "(3858,)"
      ]
     },
     "execution_count": 9,
     "metadata": {},
     "output_type": "execute_result"
    }
   ],
   "source": [
    "test_f.shape"
   ]
  },
  {
   "cell_type": "code",
   "execution_count": 10,
   "id": "3348967e",
   "metadata": {},
   "outputs": [],
   "source": [
    "from skimage.io import imread,imshow"
   ]
  },
  {
   "cell_type": "code",
   "execution_count": 11,
   "id": "81fa17ce",
   "metadata": {},
   "outputs": [],
   "source": [
    "from skimage.transform import resize"
   ]
  },
  {
   "cell_type": "markdown",
   "id": "6d9e4c0b",
   "metadata": {},
   "source": [
    "Reading a random image"
   ]
  },
  {
   "cell_type": "code",
   "execution_count": 14,
   "id": "5ce19265",
   "metadata": {},
   "outputs": [],
   "source": [
    "import os\n",
    "base_path=os.path.join(r\"C:\\Users\\Varma\\Downloads\\cell_images\\cell_images\")"
   ]
  },
  {
   "cell_type": "code",
   "execution_count": 15,
   "id": "e317661b",
   "metadata": {},
   "outputs": [],
   "source": [
    "from random import randint\n",
    "rm=randint(0,15432)\n",
    "img=imread(os.path.join(base_path,train_f.iloc[rm]))"
   ]
  },
  {
   "cell_type": "code",
   "execution_count": 16,
   "id": "2df20e71",
   "metadata": {},
   "outputs": [
    {
     "data": {
      "text/plain": [
       "<matplotlib.image.AxesImage at 0x18bf0e46bb0>"
      ]
     },
     "execution_count": 16,
     "metadata": {},
     "output_type": "execute_result"
    },
    {
     "data": {
      "image/png": "[encoded data removed]",
      "text/plain": [
       "<Figure size 432x288 with 1 Axes>"
      ]
     },
     "metadata": {
      "needs_background": "light"
     },
     "output_type": "display_data"
    }
   ],
   "source": [
    "imshow(img)"
   ]
  },
  {
   "cell_type": "code",
   "execution_count": 17,
   "id": "8681d1c2",
   "metadata": {},
   "outputs": [
    {
     "data": {
      "text/plain": [
       "0"
      ]
     },
     "execution_count": 17,
     "metadata": {},
     "output_type": "execute_result"
    }
   ],
   "source": [
    "df[\"label\"][rm]"
   ]
  },
  {
   "cell_type": "markdown",
   "id": "e7eafb5b",
   "metadata": {},
   "source": [
    "Creating Hog Features"
   ]
  },
  {
   "cell_type": "code",
   "execution_count": 18,
   "id": "b1702f7d",
   "metadata": {},
   "outputs": [],
   "source": [
    "from skimage.feature import hog\n",
    "train_features=[]\n",
    "for i in train_f:\n",
    "    image=imread(os.path.join(base_path,i))\n",
    "    image=resize(image,(128,64))\n",
    "    features,hog_image=hog(image,orientations=9,pixels_per_cell=(8,8),cells_per_block=(2,2),visualize=True,multichannel=True)\n",
    "    train_features.append(features)"
   ]
  },
  {
   "cell_type": "code",
   "execution_count": 19,
   "id": "a51f74d9",
   "metadata": {},
   "outputs": [],
   "source": [
    "from skimage.feature import hog\n",
    "test_features=[]\n",
    "for i in test_f:\n",
    "    image=imread(os.path.join(base_path,i))\n",
    "    image=resize(image,(128,64))\n",
    "    features,hog_image=hog(image,orientations=9,pixels_per_cell=(8,8),cells_per_block=(2,2),visualize=True,multichannel=True)\n",
    "    test_features.append(features)\n"
   ]
  },
  {
   "cell_type": "markdown",
   "id": "c9ce12a5",
   "metadata": {},
   "source": [
    "Classifiers"
   ]
  },
  {
   "cell_type": "code",
   "execution_count": 20,
   "id": "1573efee",
   "metadata": {},
   "outputs": [
    {
     "name": "stdout",
     "output_type": "stream",
     "text": [
      "Test score = 81.75220321410058 %\n"
     ]
    },
    {
     "name": "stderr",
     "output_type": "stream",
     "text": [
      "C:\\Users\\Varma\\anaconda3\\lib\\site-packages\\sklearn\\linear_model\\_logistic.py:763: ConvergenceWarning: lbfgs failed to converge (status=1):\n",
      "STOP: TOTAL NO. of ITERATIONS REACHED LIMIT.\n",
      "\n",
      "Increase the number of iterations (max_iter) or scale the data as shown in:\n",
      "    https://scikit-learn.org/stable/modules/preprocessing.html\n",
      "Please also refer to the documentation for alternative solver options:\n",
      "    https://scikit-learn.org/stable/modules/linear_model.html#logistic-regression\n",
      "  n_iter_i = _check_optimize_result(\n"
     ]
    }
   ],
   "source": [
    "from sklearn.linear_model import LogisticRegression\n",
    "lr=LogisticRegression()\n",
    "lr.fit(train_features,train_l)\n",
    "print(\"Test score =\",100*lr.score(test_features,test_l),\"%\")"
   ]
  },
  {
   "cell_type": "code",
   "execution_count": 21,
   "id": "8719d529",
   "metadata": {},
   "outputs": [
    {
     "name": "stdout",
     "output_type": "stream",
     "text": [
      "test score= 66.87402799377917 %\n"
     ]
    }
   ],
   "source": [
    "from sklearn.tree import DecisionTreeClassifier\n",
    "dt=DecisionTreeClassifier()\n",
    "\n",
    "dt.fit(train_features,train_l)\n",
    "print(\"test score=\",100*dt.score(test_features,test_l),\"%\")"
   ]
  },
  {
   "cell_type": "code",
   "execution_count": null,
   "id": "2e3d356b",
   "metadata": {},
   "outputs": [],
   "source": [
    "from sklearn.ensemble import RandomForestClassifier\n",
    "rf=RandomForestClassifier()\n",
    "rf.fit(train_features,train_l)\n",
    "print(\"test score=\",100*rf.score(test_features,test_l),\"%\")"
   ]
  },
  {
   "cell_type": "code",
   "execution_count": null,
   "id": "f0d82da0",
   "metadata": {},
   "outputs": [],
   "source": [
    "import numpy as np\n",
    "train_features=np.array(train_features)\n",
    "test_features=np.array(test_features)"
   ]
  },
  {
   "cell_type": "code",
   "execution_count": null,
   "id": "7bb05f7e",
   "metadata": {},
   "outputs": [],
   "source": [
    "train_l"
   ]
  },
  {
   "cell_type": "code",
   "execution_count": null,
   "id": "87e3e2ec",
   "metadata": {},
   "outputs": [],
   "source": [
    "from xgboost import XGBClassifier\n",
    "xg=XGBClassifier(max_depth=7)\n",
    "xg.fit(train_features,train_l)\n",
    "print(\"test score=\",100*xg.score(test_features,test_l),\"%\")"
   ]
  },
  {
   "cell_type": "code",
   "execution_count": null,
   "id": "3425f2ba",
   "metadata": {},
   "outputs": [],
   "source": [
    "from sklearn.naive_bayes import MultinomialNB\n",
    "nb=MultinomialNB()\n",
    "nb.fit(train_features,train_l)\n",
    "print(\"test score=\",100*nb.score(test_features,test_l),\"%\")"
   ]
  },
  {
   "cell_type": "code",
   "execution_count": null,
   "id": "87607843",
   "metadata": {},
   "outputs": [],
   "source": [
    "from sklearn.linear_model import PassiveAggressiveClassifier\n",
    "ps=PassiveAggressiveClassifier()\n",
    "ps.fit(train_features,train_l)\n",
    "print(\"test score=\",100*ps.score(test_features,test_l),\"%\")"
   ]
  },
  {
   "cell_type": "code",
   "execution_count": null,
   "id": "15496d2a",
   "metadata": {},
   "outputs": [],
   "source": []
  }
 ],
 "metadata": {
  "kernelspec": {
   "display_name": "Python 3 (ipykernel)",
   "language": "python",
   "name": "python3"
  },
  "language_info": {
   "codemirror_mode": {
    "name": "ipython",
    "version": 3
   },
   "file_extension": ".py",
   "mimetype": "text/x-python",
   "name": "python",
   "nbconvert_exporter": "python",
   "pygments_lexer": "ipython3",
   "version": "3.9.7"
  }
 },
 "nbformat": 4,
 "nbformat_minor": 5
}
